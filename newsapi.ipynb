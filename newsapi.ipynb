{
 "cells": [
  {
   "cell_type": "code",
   "execution_count": 2,
   "metadata": {},
   "outputs": [],
   "source": [
    "from GoogleNews import GoogleNews\n",
    "import json "
   ]
  },
  {
   "cell_type": "code",
   "execution_count": null,
   "metadata": {},
   "outputs": [
    {
     "name": "stdout",
     "output_type": "stream",
     "text": [
      " * Serving Flask app \"__main__\" (lazy loading)\n",
      " * Environment: production\n",
      "   WARNING: This is a development server. Do not use it in a production deployment.\n",
      "   Use a production WSGI server instead.\n",
      " * Debug mode: off\n"
     ]
    },
    {
     "name": "stderr",
     "output_type": "stream",
     "text": [
      " * Running on http://127.0.0.1:5000/ (Press CTRL+C to quit)\n",
      "C:\\ProgramData\\Anaconda3\\lib\\site-packages\\dateutil\\parser\\_parser.py:1206: UnknownTimezoneWarning: tzname IST identified but not understood.  Pass `tzinfos` argument in order to correctly return a timezone-aware datetime.  In a future version, this will raise an exception.\n",
      "  category=UnknownTimezoneWarning)\n",
      "127.0.0.1 - - [16/Jul/2020 22:14:30] \"GET / HTTP/1.1\" 200 -\n"
     ]
    },
    {
     "name": "stdout",
     "output_type": "stream",
     "text": [
      "16\n"
     ]
    }
   ],
   "source": [
    "from flask import Flask\n",
    "from flask import jsonify\n",
    "\n",
    "\n",
    "\n",
    "import spacy\n",
    "from collections import Counter\n",
    "from string import punctuation\n",
    "\n",
    "# nlp = spacy.load(\"en_core_web_lg\")\n",
    "\n",
    "\n",
    "# import en_core_web_lgnlp \n",
    "# nlp = en_core_web_lg.load()\n",
    "\n",
    "# from GoogleNews import GoogleNews\n",
    "# import json\n",
    "app = Flask(__name__)\n",
    "\n",
    "\n",
    "import urllib.request\n",
    "from newspaper import Article\n",
    "from bs4 import BeautifulSoup as Soup\n",
    "\n",
    "# def top_sentence(text, limit):\n",
    "#     keyword = []\n",
    "#     pos_tag = ['PROPN', 'ADJ', 'NOUN', 'VERB']\n",
    "#     doc = nlp(text.lower())\n",
    "#     for token in doc:\n",
    "#         if(token.text in nlp.Defaults.stop_words or token.text in punctuation):\n",
    "#             continue\n",
    "#         if(token.pos_ in pos_tag):\n",
    "#             keyword.append(token.text)\n",
    "    \n",
    "#     freq_word = Counter(keyword)\n",
    "#     max_freq = Counter(keyword).most_common(1)[0][1]\n",
    "#     for w in freq_word:\n",
    "#         freq_word[w] = (freq_word[w]/max_freq)\n",
    "        \n",
    "#     sent_strength={}\n",
    "#     for sent in doc.sents:\n",
    "#         for word in sent:\n",
    "#             if word.text in freq_word.keys():\n",
    "#                 if sent in sent_strength.keys():\n",
    "#                     sent_strength[sent]+=freq_word[word.text]\n",
    "#                 else:\n",
    "#                     sent_strength[sent]=freq_word[word.text]\n",
    "    \n",
    "#     summary = []\n",
    "    \n",
    "#     sorted_x = sorted(sent_strength.items(), key=lambda kv: kv[1], reverse=True)\n",
    "    \n",
    "#     counter = 0\n",
    "#     for i in range(len(sorted_x)):\n",
    "#         summary.append(str(sorted_x[i][0]).capitalize())\n",
    "\n",
    "#         counter += 1\n",
    "#         if(counter >= limit):\n",
    "#             break\n",
    "            \n",
    "#     return ' '.join(summary)\n",
    "\n",
    "\n",
    "class GoogleNews:\n",
    "\n",
    "    def __init__(self,lang=\"en\",period=\"\",start=\"\",end=\"\"):\n",
    "        self.__texts = []\n",
    "        self.__links = []\n",
    "        self.__results = []\n",
    "        self.user_agent = 'Mozilla/5.0 (X11; Ubuntu; Linux i686; rv:64.0) Gecko/20100101 Firefox/64.0'\n",
    "        self.headers = {'User-Agent': self.user_agent}\n",
    "        self.__lang = lang\n",
    "        self.__period = period\n",
    "        self.__start = start\n",
    "        self.__end = end\n",
    "\n",
    "    def setlang(self, lang):\n",
    "        self.__lang = lang\n",
    "\n",
    "    def setperiod(self, period):\n",
    "        self.__period = period\n",
    "\n",
    "    def setTimeRange(self, start, end):\n",
    "        self.__start = start\n",
    "        self.__end = end\n",
    "        \n",
    "    def search(self, key):\n",
    "        \"\"\"\n",
    "        Searches for a term in google news and retrieves the first page into __results.\n",
    "        \n",
    "        Parameters:\n",
    "        key = the search term\n",
    "        \"\"\"\n",
    "        self.__key = \"+\".join(key.split(\" \"))\n",
    "        self.getpage()\n",
    "\n",
    "    def getpage(self, page=1):\n",
    "        \"\"\"\n",
    "        Retrieves a specific page from google news into __results.\n",
    "        Parameter:\n",
    "        page = number of the page to be retrieved \n",
    "        \"\"\"\n",
    "        try:\n",
    "            if self.__start != \"\" and self.__end != \"\":\n",
    "                self.url = \"https://www.google.com/search?q={}&lr=lang_{}&tbs=lr:lang_1{},cdr:1,cd_min:{},cd_max:{}&tbm=nws&start={}\".format(self.__key,self.__lang,self.__lang,self.__start,self.__end,(10 * (page - 1)))\n",
    "            elif self.__period != \"\":\n",
    "                self.url = \"https://www.google.com/search?q={}&lr=lang_{}&tbs=lr:lang_1{},qdr:{},&tbm=nws&start={}\".format(self.__key,self.__lang,self.__lang,self.__period,(10 * (page - 1))) \n",
    "            else:\n",
    "                self.url = \"https://www.google.com/search?q={}&lr=lang_{}&tbs=lr:lang_1{}&tbm=nws&start={}\".format(self.__key,self.__lang,self.__lang,(10 * (page - 1))) \n",
    "        except AttributeError:\n",
    "            raise AttributeError(\"You need to run a search() before using getpage().\")\n",
    "        try:\n",
    "            self.req = urllib.request.Request(self.url, headers=self.headers)\n",
    "            self.response = urllib.request.urlopen(self.req)\n",
    "            self.page = self.response.read()\n",
    "            self.content = Soup(self.page, \"html.parser\")\n",
    "            result = self.content.find_all(\"div\", id=\"search\")[0].find_all(\"g-card\")\n",
    "            for item in result:\n",
    "                try:\n",
    "#                     print(item)\n",
    "                    tmp_text = item.findAll(\"g-img\")[1].parent.findNext('div').text.replace(\"\\n\",\"\")\n",
    "#                     tmp_text = item.find(\"div\", {\"role\" : \"heading\"}).text.replace(\"\\n\",\"\")\n",
    "                except Exception:\n",
    "                    tmp_text = ''\n",
    "                try:\n",
    "                    tmp_link = item.find(\"a\").get(\"href\")\n",
    "                except Exception:\n",
    "                    tmp_link = ''\n",
    "                try:\n",
    "                    tmp_media = item.findAll(\"g-img\")[1].parent.text\n",
    "                except Exception:\n",
    "                    tmp_media = ''\n",
    "                try:\n",
    "                    tmp_date = item.find(\"div\", {\"role\" : \"heading\"}).next_sibling.findNext('div').findNext('div').text\n",
    "                except Exception:\n",
    "                    tmp_date = ''\n",
    "                try:\n",
    "                    tmp_desc = item.find(\"div\", {\"role\" : \"heading\"}).next_sibling.findNext('div').text.replace(\"\\n\",\"\")\n",
    "                except Exception:\n",
    "                    tmp_desc = ''\n",
    "                try:\n",
    "                    article = Article(tmp_link)\n",
    "                    article.download()\n",
    "                    article.parse()\n",
    "#                     article.nlp()\n",
    "                    tmp_img = article.top_image\n",
    "#                     tmp_img = item.findAll(\"g-img\")[0].find(\"img\").get('src')\n",
    "#                     print(article.text)\n",
    "                except Exception:\n",
    "                    tmp_img = ''\n",
    "                self.__texts.append(tmp_text)\n",
    "                self.__links.append(tmp_link)\n",
    "                self.__results.append({'title': tmp_text, 'media': tmp_media,'date': tmp_date,'desc': tmp_desc, 'link': tmp_link,'img': tmp_img})\n",
    "            self.response.close()\n",
    "        except Exception:\n",
    "            pass\n",
    "\n",
    "    def get_news(self, deamplify=False):\n",
    "        self.url = 'https://news.google.com/?hl={}'.format(self.__lang)\n",
    "        try:\n",
    "            self.req = urllib.request.Request(self.url, headers=self.headers)\n",
    "            self.response = urllib.request.urlopen(self.req)\n",
    "            self.page = self.response.read()\n",
    "            self.content = Soup(self.page, \"html.parser\")\n",
    "            self.content = self.content.find(\"h2\").parent.parent.parent\n",
    "            result = self.content.findChildren(\"div\", recursive=False)\n",
    "            section = None\n",
    "            for item in result:\n",
    "                try:\n",
    "                    try:\n",
    "                        section = item.find(\"h2\").find(\"a\").text\n",
    "                    except Exception as sec_e:\n",
    "                        pass\n",
    "                    title = item.find(\"h3\").text\n",
    "                    if deamplify:\n",
    "                        try:\n",
    "                            link = item.find(\"article\").get(\"jslog\").split('2:')[1].split(';')[0]\n",
    "                        except Exception as deamp_e:\n",
    "                            print(deamp_e)\n",
    "                            link = 'news.google.com/' + item.find(\"h3\").find(\"a\").get(\"href\")\n",
    "                    else:\n",
    "                        link = item.find(\"h3\").find(\"a\").get(\"href\")\n",
    "                    self.__texts.append(title)\n",
    "                    self.__links.append(link)\n",
    "                    try:\n",
    "                        datetime = item.find(\"time\").get(\"datetime\")\n",
    "                    except:\n",
    "                        datetime = None\n",
    "                    try:\n",
    "                        time = item.find(\"time\").text\n",
    "                    except:\n",
    "                        time = None\n",
    "                    try:\n",
    "                        site = item.find(\"time\").parent.find(\"a\").text\n",
    "                    except:\n",
    "                        site = None\n",
    "                    try:\n",
    "                        article = Article(tmp_link)\n",
    "                        article.download()\n",
    "                        article.parse()\n",
    "#                     article.nlp()\n",
    "                        img = article.top_image\n",
    "#                         img = item.find(\"img\").get(\"src\")\n",
    "                    except:\n",
    "                        img = None\n",
    "                    desc = None\n",
    "                    if link.startswith('https://www.youtube.com/watch?v='):\n",
    "                        desc = 'video'\n",
    "\n",
    "                    self.__results.append(\n",
    "                        {'section': section,\n",
    "                         'title': title,\n",
    "                         'datetime': datetime,\n",
    "                         'time': time,\n",
    "                         'site': site,\n",
    "                         'desc': desc,\n",
    "                         'link': link,\n",
    "                         'media': None,\n",
    "                         'img': img})\n",
    "                except Exception as big_e:\n",
    "                    pass\n",
    "            self.response.close()\n",
    "        except Exception as e:\n",
    "            print(e)\n",
    "            pass\n",
    "\n",
    "    def result(self):\n",
    "        \"\"\"Returns the __results.\"\"\"\n",
    "        return self.__results\n",
    "    \n",
    "\n",
    "    def gettext(self):\n",
    "        \"\"\"Returns only the __texts of the __results.\"\"\"\n",
    "        return self.__texts\n",
    "\n",
    "    def get__links(self):\n",
    "        \"\"\"Returns only the __links of the __results.\"\"\"\n",
    "        return self.__links\n",
    "\n",
    "    def clear(self):\n",
    "        self.__texts = []\n",
    "        self.__links = []\n",
    "        self.__results = []\n",
    "@app.route(\"/\")\n",
    "def hello():\n",
    "    googlenews = GoogleNews()\n",
    "    googlenews = GoogleNews(lang='te')\n",
    "    googlenews.search('covid')\n",
    "    # result = googlenews\n",
    "    # for i in range(1,20):\n",
    "    #     googlenews.getpage(i)\n",
    "    # googlenews.getpage()\n",
    "\n",
    "    result = googlenews.result()\n",
    "    print(len(result))\n",
    "    return jsonify(result)\n",
    "\n",
    "\n",
    "if __name__ == '__main__':\n",
    "    app.run(debug=False)\n",
    "\n"
   ]
  },
  {
   "cell_type": "code",
   "execution_count": null,
   "metadata": {
    "scrolled": true
   },
   "outputs": [],
   "source": []
  },
  {
   "cell_type": "code",
   "execution_count": 4,
   "metadata": {},
   "outputs": [
    {
     "name": "stdout",
     "output_type": "stream",
     "text": [
      "{'title': 'Uttar Pradesh comes up with new strategy to tackle Covid-19, offices and markets to remain closed on...', 'media': 'Hindustan Times', 'date': '2 hours ago', 'desc': 'The state has already imposed a 55-hour mini lockdown till Monday, where except for essential and some other services, everything else is ...', 'link': 'https://www.hindustantimes.com/india-news/uttar-pradesh-comes-up-with-new-strategy-to-tackle-covid-19-offices-and-markets-to-remain-closed-on-weekends/story-U246rEkvNu64gORxUPimJK.html', 'img': 'data:image/gif;base64,R0lGODlhAQABAIAAAP///////yH5BAEKAAEALAAAAAABAAEAAAICTAEAOw=='} {'title': '', 'media': 'Times Now', 'date': '', 'desc': '', 'link': 'https://www.timesnownews.com/india/article/aishwarya-rai-bachchan-daughter-aaradhya-test-covid-19-positive/620275', 'img': 'data:image/gif;base64,R0lGODlhAQABAIAAAP///////yH5BAEKAAEALAAAAAABAAEAAAICTAEAOw=='} {'title': '', 'media': 'The Indian Express', 'date': '', 'desc': '', 'link': 'https://indianexpress.com/article/cities/mumbai/maharashtra-mumbai-pune-thane-coronavirus-lockdown-news-live-updates-covid-19-corona-cases-tracker-recoveries-6501384/', 'img': 'data:image/gif;base64,R0lGODlhAQABAIAAAP///////yH5BAEKAAEALAAAAAABAAEAAAICTAEAOw=='} {'title': '', 'media': 'Times of India', 'date': '', 'desc': '', 'link': 'https://timesofindia.indiatimes.com/india/coronavirus-india-total-live-updates-amitabh-bachchan-tests-positive/liveblog/76916571.cms', 'img': 'data:image/gif;base64,R0lGODlhAQABAIAAAP///////yH5BAEKAAEALAAAAAABAAEAAAICTAEAOw=='} {'title': \"UP ashram horror: 'Godman' drugged kids with 'Covid medicine', sodomised them\", 'media': 'Times of India', 'date': '12 hours ago', 'desc': \"Every evening, after the day's work was done, children at an ashram in Shukratal, 30 km from Muzaffarnagar, would wait in dread. The manager ...\", 'link': 'https://timesofindia.indiatimes.com/city/meerut/up-ashram-horror-godman-drugged-kids-with-covid-medicine-sodomised-them/articleshow/76914366.cms', 'img': 'data:image/gif;base64,R0lGODlhAQABAIAAAP///////yH5BAEKAAEALAAAAAABAAEAAAICTAEAOw=='} {'title': '18-Year-Old Diabetic Covid Patient Dies After 3 Hospitals Refused Admission: Parents', 'media': 'NDTV', 'date': '7 hours ago', 'desc': 'The parents of an 18-year-old man, who was diabetic and tested positive for COVID-19 before his death in a government hospital in Kolkata, on ...', 'link': 'https://www.ndtv.com/india-news/diabetic-covid-patient-18-dies-after-3-hospitals-refused-admission-parents-2261287', 'img': 'data:image/gif;base64,R0lGODlhAQABAIAAAP///////yH5BAEKAAEALAAAAAABAAEAAAICTAEAOw=='} {'title': '', 'media': 'ThePrint', 'date': '', 'desc': '', 'link': 'https://theprint.in/world/bill-gates-warns-of-a-deadlier-pandemic-if-covid-vaccines-go-only-to-the-highest-bidder/459229/', 'img': 'data:image/gif;base64,R0lGODlhAQABAIAAAP///////yH5BAEKAAEALAAAAAABAAEAAAICTAEAOw=='} {'title': '', 'media': 'Hindustan Times', 'date': '', 'desc': '', 'link': 'https://www.hindustantimes.com/india-news/meet-deepal-paliwal-man-who-risked-his-life-to-help-oxford-experts-develop-covid-19-vaccine/story-CNMsnKHIm06xqRzdPVPpeM.html', 'img': 'data:image/gif;base64,R0lGODlhAQABAIAAAP///////yH5BAEKAAEALAAAAAABAAEAAAICTAEAOw=='} {'title': '', 'media': 'The Indian Express', 'date': '', 'desc': '', 'link': 'https://indianexpress.com/article/explained/coronavirus-covid-19-vaccine-hydroxychloroquine-remdesivir-6499894/', 'img': 'data:image/gif;base64,R0lGODlhAQABAIAAAP///////yH5BAEKAAEALAAAAAABAAEAAAICTAEAOw=='} {'title': '', 'media': 'Livemint', 'date': '', 'desc': '', 'link': 'https://www.livemint.com/news/india/karnataka-complete-lockdown-in-bengaluru-from-14-23-july-as-covid-19-cases-rise-11594478305150.html', 'img': 'data:image/gif;base64,R0lGODlhAQABAIAAAP///////yH5BAEKAAEALAAAAAABAAEAAAICTAEAOw=='} {'title': '', 'media': 'Times of India', 'date': '', 'desc': '', 'link': 'https://timesofindia.indiatimes.com/india/coronavirus-india-live-updates-complete-lockdown-in-bengaluru-from-8pm-july-14-to-5am-july-22/liveblog/76883922.cms', 'img': 'data:image/gif;base64,R0lGODlhAQABAIAAAP///////yH5BAEKAAEALAAAAAABAAEAAAICTAEAOw=='} {'title': '', 'media': 'The Indian Express', 'date': '', 'desc': '', 'link': 'https://indianexpress.com/article/india/india-coronavirus-updates-12-july-delhi-maharashtra-tamil-nadu-6501792/', 'img': 'data:image/gif;base64,R0lGODlhAQABAIAAAP///////yH5BAEKAAEALAAAAAABAAEAAAICTAEAOw=='} {'title': 'Telangana takes down COVID-19 data site', 'media': 'Deccan Chronicle', 'date': '20 hours ago', 'desc': \"Hyderabad: Every time a question is asked about the Telangana government's management of the COVID-19 pandemic, or when ...\", 'link': 'https://www.deccanchronicle.com/nation/current-affairs/110720/telangana-takes-down-covid-19-data-site.html', 'img': 'data:image/gif;base64,R0lGODlhAQABAIAAAP///////yH5BAEKAAEALAAAAAABAAEAAAICTAEAOw=='} {'title': '', 'media': 'Republic World', 'date': '', 'desc': '', 'link': 'https://www.republicworld.com/business-news/india-business/biocons-itolizumab-receives-dcgi-nod-for-treatment-of-covid-patients.html', 'img': 'data:image/gif;base64,R0lGODlhAQABAIAAAP///////yH5BAEKAAEALAAAAAABAAEAAAICTAEAOw=='} {'title': '', 'media': 'Hindustan Times', 'date': '', 'desc': '', 'link': 'https://www.hindustantimes.com/india-news/dcgi-approves-limited-use-of-psoriasis-injection-for-covid/story-bkVPzdJ7Y9oaCiX2NJkypO.html', 'img': 'data:image/gif;base64,R0lGODlhAQABAIAAAP///////yH5BAEKAAEALAAAAAABAAEAAAICTAEAOw=='} {'title': '', 'media': 'BloombergQuint', 'date': '', 'desc': '', 'link': 'https://www.bloombergquint.com/business/biocon-drug-receives-dcgi-nod-for-use-in-moderate-to-severe-covid-19-patients', 'img': 'data:image/gif;base64,R0lGODlhAQABAIAAAP///////yH5BAEKAAEALAAAAAABAAEAAAICTAEAOw=='} {'title': 'India at good position in Covid-19 battle: Amit Shah', 'media': 'Times of India', 'date': '41 mins ago', 'desc': 'India News: India is at a \"good position\" in the battle against the coronavirus pandemic and the country will fight the disease with determination ...', 'link': 'https://timesofindia.indiatimes.com/india/india-at-good-position-in-covid-19-battle-amit-shah/articleshow/76919752.cms', 'img': 'data:image/gif;base64,R0lGODlhAQABAIAAAP///////yH5BAEKAAEALAAAAAABAAEAAAICTAEAOw=='} {'title': 'Airborne transmission of COVID-19: WHO issues new guidelines; here’s what you can do to stay safe', 'media': 'Times Now', 'date': '2 days ago', 'desc': \"How is airborne transmission is different from droplet transmission? Here's what you can do to stay safe from respiratory infections such as ...\", 'link': 'https://www.timesnownews.com/health/article/airborne-transmission-of-covid1-9-who-issues-new-guidelines-here-s-what-you-can-do-to-stay-safe/619268', 'img': 'data:image/gif;base64,R0lGODlhAQABAIAAAP///////yH5BAEKAAEALAAAAAABAAEAAAICTAEAOw=='}\n"
     ]
    }
   ],
   "source": [
    "print(*result)"
   ]
  },
  {
   "cell_type": "code",
   "execution_count": 5,
   "metadata": {},
   "outputs": [],
   "source": [
    "from newspaper import Article"
   ]
  },
  {
   "cell_type": "code",
   "execution_count": 21,
   "metadata": {},
   "outputs": [],
   "source": [
    "article = Article('https://www.timesnownews.com/health/article/airborne-transmission-of-covid1-9-who-issues-new-guidelines-here-s-what-you-can-do-to-stay-safe/619268')"
   ]
  },
  {
   "cell_type": "code",
   "execution_count": 32,
   "metadata": {},
   "outputs": [],
   "source": [
    "article.download()\n",
    "article.parse()\n",
    "article.nlp()"
   ]
  },
  {
   "cell_type": "code",
   "execution_count": 34,
   "metadata": {},
   "outputs": [
    {
     "data": {
      "text/plain": [
       "['Updated Jul']"
      ]
     },
     "execution_count": 34,
     "metadata": {},
     "output_type": "execute_result"
    }
   ],
   "source": [
    "article.authors"
   ]
  },
  {
   "cell_type": "code",
   "execution_count": 35,
   "metadata": {},
   "outputs": [],
   "source": [
    "article.publish_date"
   ]
  },
  {
   "cell_type": "code",
   "execution_count": 33,
   "metadata": {},
   "outputs": [
    {
     "data": {
      "text/plain": [
       "['droplet',\n",
       " 'settings',\n",
       " 'transmission',\n",
       " 'issues',\n",
       " 'stay',\n",
       " 'virus',\n",
       " 'heres',\n",
       " 'guidelines',\n",
       " 'spread',\n",
       " 'covid19',\n",
       " 'infected',\n",
       " 'safe',\n",
       " 'airborne',\n",
       " 'respiratory',\n",
       " 'health']"
      ]
     },
     "execution_count": 33,
     "metadata": {},
     "output_type": "execute_result"
    }
   ],
   "source": [
    "article.keywords"
   ]
  },
  {
   "cell_type": "code",
   "execution_count": 36,
   "metadata": {},
   "outputs": [
    {
     "name": "stdout",
     "output_type": "stream",
     "text": [
      "Airborne transmission of COVID-19: WHO issues new guidelines; here’s how you can stay safe from coronavirus | Photo Credit: iStock Images\n",
      "\n",
      "Key Highlights The World Health Organization has acknowledged that there's possibility of coronavirus being spread in the air under certain conditons The UN body releases new guidelines on COVID-19 transmission, including new scientific evidence available on the spread of the SARS-CoV-2 Here's all you need to know about airborne transmission and what you can do to stay safe from the deadly virus\n",
      "\n",
      "New Delhi: The World Health Organization (WHO) on Thursday issued new guidelines on the transmission of the novel coronavirus acknowledging some reports of airborne spread of the SARS-CoV-2 virus that causes COVID-19. In an updated scientific brief on COVID-19 transmission, the UN health agency said airborne spread of coronavirus can occur in health care settings where specific medical procedures generate very small droplets - aerosols. However, WHO said that more research is urgently required to elucidate the importance of different transmission routes of the virus.\n",
      "\n",
      "The guidelines stated that understanding how, when and in what types of settings the SARS-CoV-2 virus spreads between people is critical for developing effective public health and infection prevention measures to break chains of transmission. WHO said current evidence suggests that COVID-19 transmission occurs primarily through direct, indirect, or close contact with infected individuals through their saliva and respiratory secretions, or through their respiratory droplets expelled when they cough, sneeze, talk or sing. The agency also said that asymptomatic people can also spread the virus to others, although it is still unclear to what extent this occurs and more research is needed in this area.\n",
      "\n",
      "WHO stressed that high-quality research is urgently needed to understand the role of airborne spread of the SARS-CoV-2 in the absence of aerosol-generating procedures, the dose of virus required for transmission to occur, the settings and risk factors for superspreading events, as well as the extent of asymptomatic and pre-symptomatic transmission. In this article, let us tell you how airborne transmission is different from droplet transmission and what you can do to stay safe from respiratory infections such as COVID-19.\n",
      "\n",
      "What’s the difference between airborne and droplet transmission?\n",
      "\n",
      "Airborne transmission is different from droplet transmission. It tends to refer to the presence of microbes within droplet nuclei, which are generally considered to be particles <5μm in diameter.\n",
      "\n",
      "“Airborne and droplet are two descriptions of one phenomenon. Microorganism that is less than 5 micrometers is called airborne and more than 5 micrometers is called droplet. Any person who has any bacterial, mycobacterial (TB and TB family) or viral respiratory infection - the disease can spread through the uncovered cough and sneeze of such person to others. Airborne material can travel up to 6-9 feet and droplets settle on some surfaces. The bacteria or virus can remain viable on surfaces for a few minutes to a few hours. If we touch such a surface and then touch our face/nose/mouth then there are chances that it may enter our respiratory system,” said Dr Samir Garde, Pulmonologist, Global Hospital, Mumbai.\n",
      "\n",
      "Dr Garde further added that if anybody coughs or sneezes in front of others without covering it, then the material can enter the respiratory system - this is called getting infected. Getting infected and getting the disease are two different t things. Even if bacteria or viruses enter our respiratory tract, our immune system fights with it and kills them. So everyone may get infected but may not suffer from the disease. Depending on the type of illness - bacterial or viral - the doctors diagnose and treat the condition.\n",
      "\n",
      "What you can do to prevent contracting respiratory infections\n",
      "\n",
      "In the current scenario, it’s always best to wear a mask while venturing out in crowded areas to keep respiratory infections away.\n",
      "\n",
      "Try to keep at least 3 feet physical distance and wash hands frequently with soap and water for at least 20 seconds.\n",
      "\n",
      "Do not touch your face unnecessarily.\n",
      "\n",
      "Practice respiratory etiquette.\n",
      "\n",
      "Avoid crowded places, close-contact settings and confined and enclosed spaces with poor ventilation.\n",
      "\n",
      "Ensure appropriate environmental cleaning and disinfection.\n",
      "\n",
      "To maintain immunity, opt for Indian square meal and exercises like Surya Namaskar and Pranayam or any other cardiorespiratory fitness regimen. It can help your cardio-respiratory fitness and lowers blood pressure as well. Moreover, it also increases cardio-respiratory efficiency and respiratory capacity.\n",
      "\n",
      "To prevent transmission, WHO recommends identifying suspect cases as quickly as possible, testing, and isolating all cases (infected people) in appropriate facilities.\n",
      "\n",
      "Disclaimer: Tips and suggestions mentioned in the article are for general information purposes only and should not be construed as professional medical advice. Always consult your doctor or a professional healthcare provider if you have any specific questions about any medical matter.\n"
     ]
    }
   ],
   "source": [
    "print(article.text)"
   ]
  },
  {
   "cell_type": "code",
   "execution_count": 37,
   "metadata": {},
   "outputs": [
    {
     "name": "stdout",
     "output_type": "stream",
     "text": [
      "In an updated scientific brief on COVID-19 transmission, the UN health agency said airborne spread of coronavirus can occur in health care settings where specific medical procedures generate very small droplets - aerosols.\n",
      "However, WHO said that more research is urgently required to elucidate the importance of different transmission routes of the virus.\n",
      "In this article, let us tell you how airborne transmission is different from droplet transmission and what you can do to stay safe from respiratory infections such as COVID-19.\n",
      "What’s the difference between airborne and droplet transmission?\n",
      "Airborne transmission is different from droplet transmission.\n"
     ]
    }
   ],
   "source": [
    "print(article.summary)"
   ]
  },
  {
   "cell_type": "code",
   "execution_count": 31,
   "metadata": {},
   "outputs": [
    {
     "data": {
      "text/plain": [
       "'https://imgk.timesnownews.com/story/covid-transmission.gif?tr=w-560,h-292,fo-top'"
      ]
     },
     "execution_count": 31,
     "metadata": {},
     "output_type": "execute_result"
    }
   ],
   "source": [
    "article.top_image"
   ]
  },
  {
   "cell_type": "code",
   "execution_count": null,
   "metadata": {},
   "outputs": [],
   "source": []
  }
 ],
 "metadata": {
  "kernelspec": {
   "display_name": "Python 3",
   "language": "python",
   "name": "python3"
  },
  "language_info": {
   "codemirror_mode": {
    "name": "ipython",
    "version": 3
   },
   "file_extension": ".py",
   "mimetype": "text/x-python",
   "name": "python",
   "nbconvert_exporter": "python",
   "pygments_lexer": "ipython3",
   "version": "3.7.4"
  }
 },
 "nbformat": 4,
 "nbformat_minor": 2
}
